{
 "cells": [
  {
   "cell_type": "code",
   "execution_count": 1,
   "metadata": {
    "ExecuteTime": {
     "end_time": "2020-07-01T13:20:28.346562Z",
     "start_time": "2020-07-01T13:20:25.429358Z"
    }
   },
   "outputs": [],
   "source": [
    "import numpy as np\n",
    "import pandas as pd\n",
    "import matplotlib as plt\n",
    "import scipy\n",
    "# 不用print，直接显示结果\n",
    "from IPython.core.interactiveshell import InteractiveShell\n",
    "InteractiveShell.ast_node_interactivity = \"all\"\n",
    "\n",
    "# 显示所有列\n",
    "pd.set_option('display.max_columns', 600)"
   ]
  },
  {
   "cell_type": "markdown",
   "metadata": {},
   "source": [
    "# 一、端午节的淘宝粽子交易\n",
    "## (1) 请删除最后一列为缺失值的行，并求所有在杭州发货的商品单价均值。"
   ]
  },
  {
   "cell_type": "code",
   "execution_count": 17,
   "metadata": {
    "ExecuteTime": {
     "end_time": "2020-06-30T13:52:53.290553Z",
     "start_time": "2020-06-30T13:52:53.240684Z"
    }
   },
   "outputs": [
    {
     "name": "stdout",
     "output_type": "stream",
     "text": [
      "<class 'pandas.core.frame.DataFrame'>\n",
      "RangeIndex: 4403 entries, 0 to 4402\n",
      "Data columns (total 5 columns):\n",
      " #   Column  Non-Null Count  Dtype \n",
      "---  ------  --------------  ----- \n",
      " 0   标题      4403 non-null   object\n",
      " 1    价格     4403 non-null   object\n",
      " 2   付款人数    4332 non-null   object\n",
      " 3   店铺      4403 non-null   object\n",
      " 4   发货地址    4400 non-null   object\n",
      "dtypes: object(5)\n",
      "memory usage: 172.1+ KB\n"
     ]
    },
    {
     "data": {
      "text/html": [
       "<div>\n",
       "<style scoped>\n",
       "    .dataframe tbody tr th:only-of-type {\n",
       "        vertical-align: middle;\n",
       "    }\n",
       "\n",
       "    .dataframe tbody tr th {\n",
       "        vertical-align: top;\n",
       "    }\n",
       "\n",
       "    .dataframe thead th {\n",
       "        text-align: right;\n",
       "    }\n",
       "</style>\n",
       "<table border=\"1\" class=\"dataframe\">\n",
       "  <thead>\n",
       "    <tr style=\"text-align: right;\">\n",
       "      <th></th>\n",
       "      <th>标题</th>\n",
       "      <th>价格</th>\n",
       "      <th>付款人数</th>\n",
       "      <th>店铺</th>\n",
       "      <th>发货地址</th>\n",
       "    </tr>\n",
       "  </thead>\n",
       "  <tbody>\n",
       "    <tr>\n",
       "      <th>0</th>\n",
       "      <td>五芳斋粽子礼盒 心悦+18只装咸鸭蛋组合端午节礼品团购嘉兴肉粽子</td>\n",
       "      <td>129</td>\n",
       "      <td>6人付款</td>\n",
       "      <td>五芳斋官方旗舰店</td>\n",
       "      <td>浙江 嘉兴</td>\n",
       "    </tr>\n",
       "    <tr>\n",
       "      <th>1</th>\n",
       "      <td>北京稻香村端午粽子手工豆沙粽220g*2袋散装豆沙粽香甜软糯豆沙粽</td>\n",
       "      <td>44</td>\n",
       "      <td>8人付款</td>\n",
       "      <td>天猫超市</td>\n",
       "      <td>上海</td>\n",
       "    </tr>\n",
       "    <tr>\n",
       "      <th>2</th>\n",
       "      <td>五芳斋粽子礼盒装鲜肉咸蛋黄大肉粽嘉兴豆沙甜粽端午团购散装礼品</td>\n",
       "      <td>89.9</td>\n",
       "      <td>100万+人付款</td>\n",
       "      <td>五芳斋官方旗舰店</td>\n",
       "      <td>浙江 嘉兴</td>\n",
       "    </tr>\n",
       "    <tr>\n",
       "      <th>3</th>\n",
       "      <td>稻香私房鲜肉粽蛋黄肉粽嘉兴粽子咸鸭蛋礼盒装端午节送礼特产团购</td>\n",
       "      <td>138</td>\n",
       "      <td>1936人付款</td>\n",
       "      <td>稻香村食品旗舰店</td>\n",
       "      <td>北京</td>\n",
       "    </tr>\n",
       "    <tr>\n",
       "      <th>4</th>\n",
       "      <td>嘉兴粽子 蛋黄鲜肉粽新鲜大肉粽早餐散装团购浙江特产蜜枣多口味</td>\n",
       "      <td>3.8</td>\n",
       "      <td>9500+人付款</td>\n",
       "      <td>城城喂食猫</td>\n",
       "      <td>浙江 嘉兴</td>\n",
       "    </tr>\n",
       "  </tbody>\n",
       "</table>\n",
       "</div>"
      ],
      "text/plain": [
       "                                  标题    价格      付款人数        店铺  发货地址 \n",
       "0   五芳斋粽子礼盒 心悦+18只装咸鸭蛋组合端午节礼品团购嘉兴肉粽子   129      6人付款  五芳斋官方旗舰店  浙江 嘉兴\n",
       "1  北京稻香村端午粽子手工豆沙粽220g*2袋散装豆沙粽香甜软糯豆沙粽    44      8人付款      天猫超市     上海\n",
       "2     五芳斋粽子礼盒装鲜肉咸蛋黄大肉粽嘉兴豆沙甜粽端午团购散装礼品  89.9  100万+人付款  五芳斋官方旗舰店  浙江 嘉兴\n",
       "3     稻香私房鲜肉粽蛋黄肉粽嘉兴粽子咸鸭蛋礼盒装端午节送礼特产团购   138   1936人付款  稻香村食品旗舰店     北京\n",
       "4     嘉兴粽子 蛋黄鲜肉粽新鲜大肉粽早餐散装团购浙江特产蜜枣多口味   3.8  9500+人付款     城城喂食猫  浙江 嘉兴"
      ]
     },
     "execution_count": 17,
     "metadata": {},
     "output_type": "execute_result"
    },
    {
     "data": {
      "text/plain": [
       "Index(['标题', ' 价格', '付款人数', '店铺', '发货地址 '], dtype='object')"
      ]
     },
     "execution_count": 17,
     "metadata": {},
     "output_type": "execute_result"
    }
   ],
   "source": [
    "Zongzi = pd.read_csv('./端午粽子数据.csv')\n",
    "Zongzi.info()\n",
    "Zongzi.head()\n",
    "Zongzi.columns"
   ]
  },
  {
   "cell_type": "code",
   "execution_count": 22,
   "metadata": {
    "ExecuteTime": {
     "end_time": "2020-06-30T13:55:30.797884Z",
     "start_time": "2020-06-30T13:55:30.714108Z"
    }
   },
   "outputs": [
    {
     "data": {
      "text/plain": [
       "array(['浙江 嘉兴', '上海', '北京', '浙江 杭州', '天津', '广东 广州', '江苏 南京', '福建 福州',\n",
       "       '四川 成都', '安徽 合肥', '河南 郑州', '福建 厦门', '江苏 宿迁', '安徽 阜阳', '浙江 金华',\n",
       "       '浙江 温州', '河北 廊坊', '陕西 西安', '浙江 宁波', '江苏 无锡', '江苏 南通', '湖南 长沙',\n",
       "       '广东 东莞', '山东 济南', '云南 昆明', '浙江 湖州', '广东 肇庆', '广东 深圳', '河南 洛阳',\n",
       "       '江苏 淮安', '广东 汕头', '湖北 荆州', '安徽 芜湖', '山东 枣庄', '山东 东营', '山西 大同',\n",
       "       '福建 泉州', '广西 钦州', '广西 南宁', '江西 萍乡', '山西 吕梁', '江西 宜春', '广东 珠海',\n",
       "       '海南 海口', '贵州 黔西南', '湖南 怀化', '吉林 白城', '吉林 通化', '海南 定安', '河南 新乡',\n",
       "       '湖北 恩施', '广西 桂林', '山东 青岛', '吉林 长春', '广东 梅州', '福建 宁德', '广东 中山',\n",
       "       '江苏 泰州', '河北 保定', '辽宁 沈阳', '重庆', '吉林 松原', '辽宁 锦州', '江西 赣州',\n",
       "       '江苏 苏州', '江苏 徐州', '江苏 连云港', '广西 北海', '湖南 常德', '浙江 绍兴', '河南 漯河',\n",
       "       '山东 潍坊', '浙江 丽水', '贵州 遵义', '陕西 宝鸡', '黑龙江 哈尔滨', '海南 儋州', '山东 威海',\n",
       "       '安徽 六安', '香港 九龙', '广东 潮州', '广东 揭阳', '江西 上饶', '安徽 亳州', '广西 贵港',\n",
       "       '四川 德阳', '陕西 榆林', '江苏 扬州', '江苏 盐城', '广东 佛山', '河北 石家庄', '辽宁 本溪',\n",
       "       '江西 南昌', '山西 太原', '四川 自贡', '安徽 宣城', '广东 湛江', '广西 柳州', '湖南 郴州',\n",
       "       '陕西 咸阳', '湖南 衡阳', '辽宁 大连', '黑龙江 大庆', '河北 邢台', '湖南 益阳', '内蒙古 呼和浩特',\n",
       "       '新疆 乌鲁木齐', '浙江 台州', '陕西 延安', '安徽 黄山', '山西 晋中', '福建 三明', '云南 文山',\n",
       "       '吉林 白山', '江苏 常州', '浙江 衢州', '贵州 黔南', '内蒙古 通辽', '河南 焦作', '贵州 贵阳',\n",
       "       '广西 玉林', '陕西 渭南', '辽宁 盘锦', '广西 梧州', '河北 沧州', '湖北 武汉', '福建 漳州',\n",
       "       '广东 清远', '四川 宜宾', '广东 江门', '山东 临沂', '山东 日照', '广东 茂名', '江西 抚州',\n",
       "       '四川 乐山', '山东 烟台', '四川 泸州', '山东 泰安', '广西 百色', '贵州 黔东南', '海南 万宁',\n",
       "       '江西 吉安', '宁夏 银川', '湖北 孝感', '广东 阳江', '湖南 株洲', '云南 玉溪', '广西 河池',\n",
       "       '山西 忻州', '海南 文昌', '辽宁 丹东', '江西 鹰潭', '河南 信阳', '河南 南阳', '广东 韶关',\n",
       "       '香港 香港岛', '山东 聊城', '云南 曲靖', '河北 唐山', '湖北 襄阳', '河南 济源', '山东 德州',\n",
       "       '湖北 宜昌', '江苏 镇江'], dtype=object)"
      ]
     },
     "execution_count": 22,
     "metadata": {},
     "output_type": "execute_result"
    },
    {
     "name": "stdout",
     "output_type": "stream",
     "text": [
      "<class 'pandas.core.frame.DataFrame'>\n",
      "Int64Index: 4400 entries, 0 to 4402\n",
      "Data columns (total 5 columns):\n",
      " #   Column  Non-Null Count  Dtype \n",
      "---  ------  --------------  ----- \n",
      " 0   标题      4400 non-null   object\n",
      " 1    价格     4400 non-null   object\n",
      " 2   付款人数    4329 non-null   object\n",
      " 3   店铺      4400 non-null   object\n",
      " 4   发货地址    4400 non-null   object\n",
      "dtypes: object(5)\n",
      "memory usage: 206.2+ KB\n"
     ]
    },
    {
     "ename": "ValueError",
     "evalue": "Unable to parse string \"45_\" at position 178",
     "output_type": "error",
     "traceback": [
      "\u001b[1;31m---------------------------------------------------------------------------\u001b[0m",
      "\u001b[1;31mValueError\u001b[0m                                Traceback (most recent call last)",
      "\u001b[1;32mpandas\\_libs\\lib.pyx\u001b[0m in \u001b[0;36mpandas._libs.lib.maybe_convert_numeric\u001b[1;34m()\u001b[0m\n",
      "\u001b[1;31mValueError\u001b[0m: Unable to parse string \"45_\"",
      "\nDuring handling of the above exception, another exception occurred:\n",
      "\u001b[1;31mValueError\u001b[0m                                Traceback (most recent call last)",
      "\u001b[1;32m<ipython-input-22-471f6b4cfccd>\u001b[0m in \u001b[0;36m<module>\u001b[1;34m\u001b[0m\n\u001b[0;32m      4\u001b[0m \u001b[0mZongzi\u001b[0m\u001b[1;33m.\u001b[0m\u001b[0minfo\u001b[0m\u001b[1;33m(\u001b[0m\u001b[1;33m)\u001b[0m\u001b[1;33m\u001b[0m\u001b[1;33m\u001b[0m\u001b[0m\n\u001b[0;32m      5\u001b[0m \u001b[1;33m\u001b[0m\u001b[0m\n\u001b[1;32m----> 6\u001b[1;33m \u001b[0mpd\u001b[0m\u001b[1;33m.\u001b[0m\u001b[0mto_numeric\u001b[0m\u001b[1;33m(\u001b[0m\u001b[0mZongzi\u001b[0m\u001b[1;33m[\u001b[0m\u001b[0mZongzi\u001b[0m\u001b[1;33m[\u001b[0m\u001b[1;34m'发货地址 '\u001b[0m\u001b[1;33m]\u001b[0m \u001b[1;33m==\u001b[0m \u001b[1;34m'浙江 杭州'\u001b[0m\u001b[1;33m]\u001b[0m\u001b[1;33m[\u001b[0m\u001b[1;34m' 价格'\u001b[0m\u001b[1;33m]\u001b[0m\u001b[1;33m)\u001b[0m\u001b[1;33m.\u001b[0m\u001b[0mmean\u001b[0m\u001b[1;33m(\u001b[0m\u001b[1;33m)\u001b[0m\u001b[1;33m\u001b[0m\u001b[1;33m\u001b[0m\u001b[0m\n\u001b[0m",
      "\u001b[1;32m~\\Miniconda3\\lib\\site-packages\\pandas\\core\\tools\\numeric.py\u001b[0m in \u001b[0;36mto_numeric\u001b[1;34m(arg, errors, downcast)\u001b[0m\n\u001b[0;32m    148\u001b[0m         \u001b[1;32mtry\u001b[0m\u001b[1;33m:\u001b[0m\u001b[1;33m\u001b[0m\u001b[1;33m\u001b[0m\u001b[0m\n\u001b[0;32m    149\u001b[0m             values = lib.maybe_convert_numeric(\n\u001b[1;32m--> 150\u001b[1;33m                 \u001b[0mvalues\u001b[0m\u001b[1;33m,\u001b[0m \u001b[0mset\u001b[0m\u001b[1;33m(\u001b[0m\u001b[1;33m)\u001b[0m\u001b[1;33m,\u001b[0m \u001b[0mcoerce_numeric\u001b[0m\u001b[1;33m=\u001b[0m\u001b[0mcoerce_numeric\u001b[0m\u001b[1;33m\u001b[0m\u001b[1;33m\u001b[0m\u001b[0m\n\u001b[0m\u001b[0;32m    151\u001b[0m             )\n\u001b[0;32m    152\u001b[0m         \u001b[1;32mexcept\u001b[0m \u001b[1;33m(\u001b[0m\u001b[0mValueError\u001b[0m\u001b[1;33m,\u001b[0m \u001b[0mTypeError\u001b[0m\u001b[1;33m)\u001b[0m\u001b[1;33m:\u001b[0m\u001b[1;33m\u001b[0m\u001b[1;33m\u001b[0m\u001b[0m\n",
      "\u001b[1;32mpandas\\_libs\\lib.pyx\u001b[0m in \u001b[0;36mpandas._libs.lib.maybe_convert_numeric\u001b[1;34m()\u001b[0m\n",
      "\u001b[1;31mValueError\u001b[0m: Unable to parse string \"45_\" at position 178"
     ]
    }
   ],
   "source": [
    "# (1) 请删除最后一列为缺失值的行，并求所有在杭州发货的商品单价均值。\n",
    "Zongzi['发货地址 '].unique()\n",
    "Zongzi = Zongzi[~Zongzi['发货地址 '].isna()]\n",
    "Zongzi.info()\n",
    "\n",
    "pd.to_numeric(Zongzi[Zongzi['发货地址 '] == '浙江 杭州'][' 价格']).mean()"
   ]
  },
  {
   "cell_type": "code",
   "execution_count": null,
   "metadata": {},
   "outputs": [],
   "source": [
    "pd.to_numeric(Zongzi[Zongzi['发货地址 '] == '浙江 杭州'][' 价格']).mean()"
   ]
  },
  {
   "cell_type": "code",
   "execution_count": 35,
   "metadata": {
    "ExecuteTime": {
     "end_time": "2020-06-30T14:00:38.379443Z",
     "start_time": "2020-06-30T14:00:38.354548Z"
    }
   },
   "outputs": [
    {
     "data": {
      "text/html": [
       "<div>\n",
       "<style scoped>\n",
       "    .dataframe tbody tr th:only-of-type {\n",
       "        vertical-align: middle;\n",
       "    }\n",
       "\n",
       "    .dataframe tbody tr th {\n",
       "        vertical-align: top;\n",
       "    }\n",
       "\n",
       "    .dataframe thead th {\n",
       "        text-align: right;\n",
       "    }\n",
       "</style>\n",
       "<table border=\"1\" class=\"dataframe\">\n",
       "  <thead>\n",
       "    <tr style=\"text-align: right;\">\n",
       "      <th></th>\n",
       "      <th>标题</th>\n",
       "      <th>价格</th>\n",
       "      <th>付款人数</th>\n",
       "      <th>店铺</th>\n",
       "      <th>发货地址</th>\n",
       "    </tr>\n",
       "  </thead>\n",
       "  <tbody>\n",
       "    <tr>\n",
       "      <th>4376</th>\n",
       "      <td>东方贺礼端午节礼盒嘉兴粽子高汤蛋黄鲜大肉粽特产现已支持定制</td>\n",
       "      <td>45_</td>\n",
       "      <td>17人付款</td>\n",
       "      <td>缘来有礼</td>\n",
       "      <td>浙江 杭州</td>\n",
       "    </tr>\n",
       "  </tbody>\n",
       "</table>\n",
       "</div>"
      ],
      "text/plain": [
       "                                 标题   价格   付款人数    店铺  发货地址 \n",
       "4376  东方贺礼端午节礼盒嘉兴粽子高汤蛋黄鲜大肉粽特产现已支持定制  45_  17人付款  缘来有礼  浙江 杭州"
      ]
     },
     "execution_count": 35,
     "metadata": {},
     "output_type": "execute_result"
    },
    {
     "data": {
      "text/plain": [
       "80.90088888888877"
      ]
     },
     "execution_count": 35,
     "metadata": {},
     "output_type": "execute_result"
    }
   ],
   "source": [
    "# Zongzi.loc[179]  # 不是报错对应的position\n",
    "Zongzi[Zongzi[' 价格'] == '45_']\n",
    "Zongzi.loc[4376,' 价格'] = 45.0\n",
    "pd.to_numeric(Zongzi[Zongzi['发货地址 '] == '浙江 杭州'][' 价格']).mean()"
   ]
  },
  {
   "cell_type": "markdown",
   "metadata": {},
   "source": [
    "## (2) 商品标题带有“嘉兴”但发货地却不在嘉兴的商品有多少条记录？\n"
   ]
  },
  {
   "cell_type": "code",
   "execution_count": 23,
   "metadata": {
    "ExecuteTime": {
     "end_time": "2020-07-01T13:27:22.397095Z",
     "start_time": "2020-07-01T13:27:22.340248Z"
    }
   },
   "outputs": [
    {
     "data": {
      "text/plain": [
       "121"
      ]
     },
     "execution_count": 23,
     "metadata": {},
     "output_type": "execute_result"
    }
   ],
   "source": [
    "Zongzi = pd.read_csv('./端午粽子数据.csv')\n",
    "Zongzi[(Zongzi['发货地址 '].str.contains('嘉兴')) & ~(Zongzi['标题'].str.contains('嘉兴'))].shape[0]"
   ]
  },
  {
   "cell_type": "markdown",
   "metadata": {},
   "source": [
    "## (3) 请按照分位数将价格分为“高、较高、中、较低、低” 5 个类别，再将类别结果插入到标题一列之后，最后对类别列进行降序排序。\n"
   ]
  },
  {
   "cell_type": "code",
   "execution_count": 95,
   "metadata": {
    "ExecuteTime": {
     "end_time": "2020-06-30T14:54:13.095752Z",
     "start_time": "2020-06-30T14:54:12.936178Z"
    }
   },
   "outputs": [
    {
     "data": {
      "text/html": [
       "<div>\n",
       "<style scoped>\n",
       "    .dataframe tbody tr th:only-of-type {\n",
       "        vertical-align: middle;\n",
       "    }\n",
       "\n",
       "    .dataframe tbody tr th {\n",
       "        vertical-align: top;\n",
       "    }\n",
       "\n",
       "    .dataframe thead th {\n",
       "        text-align: right;\n",
       "    }\n",
       "</style>\n",
       "<table border=\"1\" class=\"dataframe\">\n",
       "  <thead>\n",
       "    <tr style=\"text-align: right;\">\n",
       "      <th></th>\n",
       "      <th>标题</th>\n",
       "      <th>价格</th>\n",
       "      <th>付款人数</th>\n",
       "      <th>店铺</th>\n",
       "      <th>发货地址</th>\n",
       "    </tr>\n",
       "  </thead>\n",
       "  <tbody>\n",
       "    <tr>\n",
       "      <th>538</th>\n",
       "      <td>五芳斋粽子蛋黄鲜肉粽豆沙粽栗子肉棕子新鲜散装批发团购嘉兴肉粽</td>\n",
       "      <td>45.9.</td>\n",
       "      <td>1.0万+人付款</td>\n",
       "      <td>五芳斋官方旗舰店</td>\n",
       "      <td>浙江 嘉兴</td>\n",
       "    </tr>\n",
       "  </tbody>\n",
       "</table>\n",
       "</div>"
      ],
      "text/plain": [
       "                                 标题     价格      付款人数        店铺  发货地址 \n",
       "538  五芳斋粽子蛋黄鲜肉粽豆沙粽栗子肉棕子新鲜散装批发团购嘉兴肉粽  45.9.  1.0万+人付款  五芳斋官方旗舰店  浙江 嘉兴"
      ]
     },
     "execution_count": 95,
     "metadata": {},
     "output_type": "execute_result"
    },
    {
     "data": {
      "text/plain": [
       "(1780.0, 2.8)"
      ]
     },
     "execution_count": 95,
     "metadata": {},
     "output_type": "execute_result"
    },
    {
     "data": {
      "text/html": [
       "<div>\n",
       "<style scoped>\n",
       "    .dataframe tbody tr th:only-of-type {\n",
       "        vertical-align: middle;\n",
       "    }\n",
       "\n",
       "    .dataframe tbody tr th {\n",
       "        vertical-align: top;\n",
       "    }\n",
       "\n",
       "    .dataframe thead th {\n",
       "        text-align: right;\n",
       "    }\n",
       "</style>\n",
       "<table border=\"1\" class=\"dataframe\">\n",
       "  <thead>\n",
       "    <tr style=\"text-align: right;\">\n",
       "      <th></th>\n",
       "      <th>标题</th>\n",
       "      <th>Price level</th>\n",
       "      <th>价格</th>\n",
       "      <th>付款人数</th>\n",
       "      <th>店铺</th>\n",
       "      <th>发货地址</th>\n",
       "    </tr>\n",
       "  </thead>\n",
       "  <tbody>\n",
       "    <tr>\n",
       "      <th>2798</th>\n",
       "      <td>御茶膳房端午节礼品黄酒有机粽子咸鸭蛋手提竹篮礼盒装高端大礼包</td>\n",
       "      <td>高</td>\n",
       "      <td>1780.0</td>\n",
       "      <td>12人付款</td>\n",
       "      <td>御茶膳房旗舰店</td>\n",
       "      <td>北京</td>\n",
       "    </tr>\n",
       "    <tr>\n",
       "      <th>2509</th>\n",
       "      <td>御茶膳房端午节礼品有机粽子咸鸭蛋手提竹篮礼盒装高端大礼包</td>\n",
       "      <td>较高</td>\n",
       "      <td>1088.0</td>\n",
       "      <td>9人付款</td>\n",
       "      <td>御茶膳房旗舰店</td>\n",
       "      <td>北京</td>\n",
       "    </tr>\n",
       "    <tr>\n",
       "      <th>153</th>\n",
       "      <td>端午节礼品礼盒装组合高档有机粽子咸鸭蛋送领导高端送礼大礼包</td>\n",
       "      <td>中</td>\n",
       "      <td>858.0</td>\n",
       "      <td>45人付款</td>\n",
       "      <td>御茶膳房旗舰店</td>\n",
       "      <td>北京</td>\n",
       "    </tr>\n",
       "    <tr>\n",
       "      <th>794</th>\n",
       "      <td>嘉兴粽子新鲜大肉粽蛋黄肉粽甜粽竹篮粽子礼盒装组合端午送礼团购</td>\n",
       "      <td>中</td>\n",
       "      <td>857.9</td>\n",
       "      <td>2491人付款</td>\n",
       "      <td>千味食代i</td>\n",
       "      <td>浙江 嘉兴</td>\n",
       "    </tr>\n",
       "    <tr>\n",
       "      <th>4172</th>\n",
       "      <td>端午节礼品粽子礼盒装超大粽鲍鱼四川原味特产鲜肉粉蒸肉南台月升</td>\n",
       "      <td>较低</td>\n",
       "      <td>418.6</td>\n",
       "      <td>12人付款</td>\n",
       "      <td>cddwzz</td>\n",
       "      <td>四川 成都</td>\n",
       "    </tr>\n",
       "    <tr>\n",
       "      <th>...</th>\n",
       "      <td>...</td>\n",
       "      <td>...</td>\n",
       "      <td>...</td>\n",
       "      <td>...</td>\n",
       "      <td>...</td>\n",
       "      <td>...</td>\n",
       "    </tr>\n",
       "    <tr>\n",
       "      <th>1481</th>\n",
       "      <td>广西柳州三江正宗鲜肉板栗绿豆大粽真空新鲜三角枕头驼背粽子</td>\n",
       "      <td>低</td>\n",
       "      <td>28.0</td>\n",
       "      <td>137人付款</td>\n",
       "      <td>红木木0505</td>\n",
       "      <td>广西 柳州</td>\n",
       "    </tr>\n",
       "    <tr>\n",
       "      <th>1482</th>\n",
       "      <td>皇饭儿粽子新鲜大肉粽农家手工糯米鲜肉粽早餐特产端午节送礼团购</td>\n",
       "      <td>低</td>\n",
       "      <td>34.9</td>\n",
       "      <td>175人付款</td>\n",
       "      <td>皇饭儿食品旗舰店</td>\n",
       "      <td>浙江 嘉兴</td>\n",
       "    </tr>\n",
       "    <tr>\n",
       "      <th>1483</th>\n",
       "      <td>嘉庆斋 嘉兴粽子8只大肉粽端午节真空早餐速食团购包邮特产咸粽子</td>\n",
       "      <td>低</td>\n",
       "      <td>29.9</td>\n",
       "      <td>172人付款</td>\n",
       "      <td>千食食品专营店</td>\n",
       "      <td>浙江 嘉兴</td>\n",
       "    </tr>\n",
       "    <tr>\n",
       "      <th>1484</th>\n",
       "      <td>桂顺斋粽子礼盒 端午节清真真空装香粽 天津特产豆沙蜜枣粽子包邮</td>\n",
       "      <td>低</td>\n",
       "      <td>109.0</td>\n",
       "      <td>34人付款</td>\n",
       "      <td>xieguozhang1982</td>\n",
       "      <td>天津</td>\n",
       "    </tr>\n",
       "    <tr>\n",
       "      <th>4402</th>\n",
       "      <td>粽子端午节送礼盒包装1200g双蛋黄广东东莞大个道滘裹蒸棕鲜肉粽</td>\n",
       "      <td>低</td>\n",
       "      <td>99.0</td>\n",
       "      <td>20人付款</td>\n",
       "      <td>hezhiqi</td>\n",
       "      <td>广东 东莞</td>\n",
       "    </tr>\n",
       "  </tbody>\n",
       "</table>\n",
       "<p>4403 rows × 6 columns</p>\n",
       "</div>"
      ],
      "text/plain": [
       "                                    标题 Price level      价格     付款人数  \\\n",
       "2798    御茶膳房端午节礼品黄酒有机粽子咸鸭蛋手提竹篮礼盒装高端大礼包           高  1780.0    12人付款   \n",
       "2509      御茶膳房端午节礼品有机粽子咸鸭蛋手提竹篮礼盒装高端大礼包          较高  1088.0     9人付款   \n",
       "153      端午节礼品礼盒装组合高档有机粽子咸鸭蛋送领导高端送礼大礼包           中   858.0    45人付款   \n",
       "794     嘉兴粽子新鲜大肉粽蛋黄肉粽甜粽竹篮粽子礼盒装组合端午送礼团购           中   857.9  2491人付款   \n",
       "4172    端午节礼品粽子礼盒装超大粽鲍鱼四川原味特产鲜肉粉蒸肉南台月升          较低   418.6    12人付款   \n",
       "...                                ...         ...     ...      ...   \n",
       "1481      广西柳州三江正宗鲜肉板栗绿豆大粽真空新鲜三角枕头驼背粽子           低    28.0   137人付款   \n",
       "1482    皇饭儿粽子新鲜大肉粽农家手工糯米鲜肉粽早餐特产端午节送礼团购           低    34.9   175人付款   \n",
       "1483   嘉庆斋 嘉兴粽子8只大肉粽端午节真空早餐速食团购包邮特产咸粽子           低    29.9   172人付款   \n",
       "1484   桂顺斋粽子礼盒 端午节清真真空装香粽 天津特产豆沙蜜枣粽子包邮           低   109.0    34人付款   \n",
       "4402  粽子端午节送礼盒包装1200g双蛋黄广东东莞大个道滘裹蒸棕鲜肉粽           低    99.0    20人付款   \n",
       "\n",
       "                   店铺  发货地址   \n",
       "2798          御茶膳房旗舰店     北京  \n",
       "2509          御茶膳房旗舰店     北京  \n",
       "153           御茶膳房旗舰店     北京  \n",
       "794             千味食代i  浙江 嘉兴  \n",
       "4172           cddwzz  四川 成都  \n",
       "...               ...    ...  \n",
       "1481          红木木0505  广西 柳州  \n",
       "1482         皇饭儿食品旗舰店  浙江 嘉兴  \n",
       "1483          千食食品专营店  浙江 嘉兴  \n",
       "1484  xieguozhang1982     天津  \n",
       "4402          hezhiqi  广东 东莞  \n",
       "\n",
       "[4403 rows x 6 columns]"
      ]
     },
     "execution_count": 95,
     "metadata": {},
     "output_type": "execute_result"
    }
   ],
   "source": [
    "Zongzi = pd.read_csv('./端午粽子数据.csv')\n",
    "Zongzi[Zongzi[' 价格'] == '45.9.']\n",
    "Zongzi.loc[4376,' 价格'] = 45.0\n",
    "Zongzi.loc[538,' 价格'] = 45.9\n",
    "Zongzi[' 价格'] = pd.to_numeric(Zongzi[' 价格'])\n",
    "Zongzi[' 价格'].max(), Zongzi[' 价格'].min()\n",
    "\n",
    "\n",
    "col_name = Zongzi.columns.tolist()\n",
    "col_name.insert(col_name.index(' 价格'),'Price level')  \n",
    "Zongzi['Price level'] = pd.cut(Zongzi[' 价格'], [0, 360, 720, 1080, 1440, 1800], right=False, labels=['低','较低','中','较高','高'])\\\n",
    "                        .astype('category').cat.as_ordered()\n",
    "Zongzi.reindex(columns=col_name).sort_values(by='Price level',ascending=False)"
   ]
  },
  {
   "cell_type": "markdown",
   "metadata": {},
   "source": [
    "## (4) 付款人数一栏有缺失值吗？若有则请利用上一问的分类结果对这些缺失值进行合理估计并填充。\n"
   ]
  },
  {
   "cell_type": "code",
   "execution_count": 87,
   "metadata": {
    "ExecuteTime": {
     "end_time": "2020-06-30T14:39:17.085515Z",
     "start_time": "2020-06-30T14:39:16.997750Z"
    }
   },
   "outputs": [
    {
     "data": {
      "text/plain": [
       "(189.0, 2.8)"
      ]
     },
     "execution_count": 87,
     "metadata": {},
     "output_type": "execute_result"
    },
    {
     "data": {
      "text/html": [
       "<div>\n",
       "<style scoped>\n",
       "    .dataframe tbody tr th:only-of-type {\n",
       "        vertical-align: middle;\n",
       "    }\n",
       "\n",
       "    .dataframe tbody tr th {\n",
       "        vertical-align: top;\n",
       "    }\n",
       "\n",
       "    .dataframe thead th {\n",
       "        text-align: right;\n",
       "    }\n",
       "</style>\n",
       "<table border=\"1\" class=\"dataframe\">\n",
       "  <thead>\n",
       "    <tr style=\"text-align: right;\">\n",
       "      <th></th>\n",
       "      <th>标题</th>\n",
       "      <th>价格</th>\n",
       "      <th>付款人数</th>\n",
       "      <th>店铺</th>\n",
       "      <th>发货地址</th>\n",
       "      <th>Price level</th>\n",
       "    </tr>\n",
       "  </thead>\n",
       "  <tbody>\n",
       "    <tr>\n",
       "      <th>183</th>\n",
       "      <td>五芳斋 140g*8只大粽子 福韵端午豆沙蜜枣蛋黄粽新包装送礼礼盒</td>\n",
       "      <td>50.90</td>\n",
       "      <td>NaN</td>\n",
       "      <td>天猫会员店</td>\n",
       "      <td>上海</td>\n",
       "      <td>低</td>\n",
       "    </tr>\n",
       "    <tr>\n",
       "      <th>243</th>\n",
       "      <td>五芳斋福雅五芳粽子礼盒端午咸甜粽子绿豆糕咸鸭蛋送礼</td>\n",
       "      <td>79.90</td>\n",
       "      <td>NaN</td>\n",
       "      <td>天猫会员店</td>\n",
       "      <td>上海</td>\n",
       "      <td>低</td>\n",
       "    </tr>\n",
       "    <tr>\n",
       "      <th>347</th>\n",
       "      <td>【百草味】龙腾粽1090g 早餐大肉粽子湖州特产嘉兴粽</td>\n",
       "      <td>39.90</td>\n",
       "      <td>NaN</td>\n",
       "      <td>天猫会员店</td>\n",
       "      <td>上海</td>\n",
       "      <td>低</td>\n",
       "    </tr>\n",
       "    <tr>\n",
       "      <th>386</th>\n",
       "      <td>五芳斋华礼竹篮礼盒1360g蛋粽组合端午礼品嘉兴粽子礼盒</td>\n",
       "      <td>129.00</td>\n",
       "      <td>NaN</td>\n",
       "      <td>天猫会员店</td>\n",
       "      <td>上海</td>\n",
       "      <td>低</td>\n",
       "    </tr>\n",
       "    <tr>\n",
       "      <th>389</th>\n",
       "      <td>百草味 龙腾粽礼盒1460g 10只装早餐大肉粽子湖州特产嘉兴</td>\n",
       "      <td>49.90</td>\n",
       "      <td>NaN</td>\n",
       "      <td>天猫会员店</td>\n",
       "      <td>上海</td>\n",
       "      <td>低</td>\n",
       "    </tr>\n",
       "    <tr>\n",
       "      <th>...</th>\n",
       "      <td>...</td>\n",
       "      <td>...</td>\n",
       "      <td>...</td>\n",
       "      <td>...</td>\n",
       "      <td>...</td>\n",
       "      <td>...</td>\n",
       "    </tr>\n",
       "    <tr>\n",
       "      <th>2025</th>\n",
       "      <td>真真老老 嘉兴肉粽 130g 真空 粽子 端午节</td>\n",
       "      <td>4.50</td>\n",
       "      <td>NaN</td>\n",
       "      <td>天猫会员店</td>\n",
       "      <td>上海</td>\n",
       "      <td>低</td>\n",
       "    </tr>\n",
       "    <tr>\n",
       "      <th>2077</th>\n",
       "      <td>真真老老 嘉兴肉粽 130g 真空 粽子 端午节</td>\n",
       "      <td>4.50</td>\n",
       "      <td>NaN</td>\n",
       "      <td>天猫会员店</td>\n",
       "      <td>上海</td>\n",
       "      <td>低</td>\n",
       "    </tr>\n",
       "    <tr>\n",
       "      <th>2078</th>\n",
       "      <td>俏香阁蛋黄鲜肉粽子120g*2只端午节嘉兴特产速食早餐点心</td>\n",
       "      <td>5.90</td>\n",
       "      <td>NaN</td>\n",
       "      <td>天猫会员店</td>\n",
       "      <td>上海</td>\n",
       "      <td>低</td>\n",
       "    </tr>\n",
       "    <tr>\n",
       "      <th>2130</th>\n",
       "      <td>三珍斋蛋黄粽200g真空100g*2只嘉兴特产粽子速食早餐</td>\n",
       "      <td>7.88</td>\n",
       "      <td>NaN</td>\n",
       "      <td>天猫会员店</td>\n",
       "      <td>上海</td>\n",
       "      <td>低</td>\n",
       "    </tr>\n",
       "    <tr>\n",
       "      <th>2131</th>\n",
       "      <td>俏香阁经典鲜肉粽子120g*2只端午节嘉兴特产速食早餐点心</td>\n",
       "      <td>5.90</td>\n",
       "      <td>NaN</td>\n",
       "      <td>天猫会员店</td>\n",
       "      <td>上海</td>\n",
       "      <td>低</td>\n",
       "    </tr>\n",
       "  </tbody>\n",
       "</table>\n",
       "<p>71 rows × 6 columns</p>\n",
       "</div>"
      ],
      "text/plain": [
       "                                     标题      价格 付款人数     店铺 发货地址  Price level\n",
       "183   五芳斋 140g*8只大粽子 福韵端午豆沙蜜枣蛋黄粽新包装送礼礼盒   50.90  NaN  天猫会员店    上海           低\n",
       "243           五芳斋福雅五芳粽子礼盒端午咸甜粽子绿豆糕咸鸭蛋送礼   79.90  NaN  天猫会员店    上海           低\n",
       "347         【百草味】龙腾粽1090g 早餐大肉粽子湖州特产嘉兴粽   39.90  NaN  天猫会员店    上海           低\n",
       "386        五芳斋华礼竹篮礼盒1360g蛋粽组合端午礼品嘉兴粽子礼盒  129.00  NaN  天猫会员店    上海           低\n",
       "389     百草味 龙腾粽礼盒1460g 10只装早餐大肉粽子湖州特产嘉兴   49.90  NaN  天猫会员店    上海           低\n",
       "...                                 ...     ...  ...    ...   ...         ...\n",
       "2025           真真老老 嘉兴肉粽 130g 真空 粽子 端午节    4.50  NaN  天猫会员店    上海           低\n",
       "2077           真真老老 嘉兴肉粽 130g 真空 粽子 端午节    4.50  NaN  天猫会员店    上海           低\n",
       "2078      俏香阁蛋黄鲜肉粽子120g*2只端午节嘉兴特产速食早餐点心    5.90  NaN  天猫会员店    上海           低\n",
       "2130      三珍斋蛋黄粽200g真空100g*2只嘉兴特产粽子速食早餐    7.88  NaN  天猫会员店    上海           低\n",
       "2131      俏香阁经典鲜肉粽子120g*2只端午节嘉兴特产速食早餐点心    5.90  NaN  天猫会员店    上海           低\n",
       "\n",
       "[71 rows x 6 columns]"
      ]
     },
     "execution_count": 87,
     "metadata": {},
     "output_type": "execute_result"
    },
    {
     "data": {
      "text/html": [
       "<div>\n",
       "<style scoped>\n",
       "    .dataframe tbody tr th:only-of-type {\n",
       "        vertical-align: middle;\n",
       "    }\n",
       "\n",
       "    .dataframe tbody tr th {\n",
       "        vertical-align: top;\n",
       "    }\n",
       "\n",
       "    .dataframe thead th {\n",
       "        text-align: right;\n",
       "    }\n",
       "</style>\n",
       "<table border=\"1\" class=\"dataframe\">\n",
       "  <thead>\n",
       "    <tr style=\"text-align: right;\">\n",
       "      <th></th>\n",
       "      <th>标题</th>\n",
       "      <th>Price level</th>\n",
       "      <th>价格</th>\n",
       "      <th>付款人数</th>\n",
       "      <th>店铺</th>\n",
       "      <th>发货地址</th>\n",
       "    </tr>\n",
       "  </thead>\n",
       "  <tbody>\n",
       "    <tr>\n",
       "      <th>2798</th>\n",
       "      <td>御茶膳房端午节礼品黄酒有机粽子咸鸭蛋手提竹篮礼盒装高端大礼包</td>\n",
       "      <td>高</td>\n",
       "      <td>1780.0</td>\n",
       "      <td>12人付款</td>\n",
       "      <td>御茶膳房旗舰店</td>\n",
       "      <td>北京</td>\n",
       "    </tr>\n",
       "    <tr>\n",
       "      <th>2509</th>\n",
       "      <td>御茶膳房端午节礼品有机粽子咸鸭蛋手提竹篮礼盒装高端大礼包</td>\n",
       "      <td>较高</td>\n",
       "      <td>1088.0</td>\n",
       "      <td>9人付款</td>\n",
       "      <td>御茶膳房旗舰店</td>\n",
       "      <td>北京</td>\n",
       "    </tr>\n",
       "    <tr>\n",
       "      <th>153</th>\n",
       "      <td>端午节礼品礼盒装组合高档有机粽子咸鸭蛋送领导高端送礼大礼包</td>\n",
       "      <td>中</td>\n",
       "      <td>858.0</td>\n",
       "      <td>45人付款</td>\n",
       "      <td>御茶膳房旗舰店</td>\n",
       "      <td>北京</td>\n",
       "    </tr>\n",
       "    <tr>\n",
       "      <th>794</th>\n",
       "      <td>嘉兴粽子新鲜大肉粽蛋黄肉粽甜粽竹篮粽子礼盒装组合端午送礼团购</td>\n",
       "      <td>中</td>\n",
       "      <td>857.9</td>\n",
       "      <td>2491人付款</td>\n",
       "      <td>千味食代i</td>\n",
       "      <td>浙江 嘉兴</td>\n",
       "    </tr>\n",
       "    <tr>\n",
       "      <th>2729</th>\n",
       "      <td>米旗端午节粽子礼盒壹品私房多口味肉粽素棕海鲜粽高档礼盒送礼</td>\n",
       "      <td>较低</td>\n",
       "      <td>678.0</td>\n",
       "      <td>5人付款</td>\n",
       "      <td>壹品优店</td>\n",
       "      <td>北京</td>\n",
       "    </tr>\n",
       "    <tr>\n",
       "      <th>...</th>\n",
       "      <td>...</td>\n",
       "      <td>...</td>\n",
       "      <td>...</td>\n",
       "      <td>...</td>\n",
       "      <td>...</td>\n",
       "      <td>...</td>\n",
       "    </tr>\n",
       "    <tr>\n",
       "      <th>1654</th>\n",
       "      <td>三珍斋鲜肉粽100g*2只嘉兴特产粽子速食早餐（新老包装随机发货）</td>\n",
       "      <td>低</td>\n",
       "      <td>3.2</td>\n",
       "      <td>NaN</td>\n",
       "      <td>天猫会员店</td>\n",
       "      <td>上海</td>\n",
       "    </tr>\n",
       "    <tr>\n",
       "      <th>1441</th>\n",
       "      <td>久知味蛋黄鲜肉粽135g 真空粽嘉兴特产粽子速食早餐</td>\n",
       "      <td>低</td>\n",
       "      <td>2.9</td>\n",
       "      <td>NaN</td>\n",
       "      <td>天猫会员店</td>\n",
       "      <td>上海</td>\n",
       "    </tr>\n",
       "    <tr>\n",
       "      <th>3516</th>\n",
       "      <td>老鼎丰东北哈尔滨特产粽子鲜肉粽甜粽蜜枣端午节手工传统新鲜蛋黄</td>\n",
       "      <td>低</td>\n",
       "      <td>2.9</td>\n",
       "      <td>913人付款</td>\n",
       "      <td>老鼎丰旗舰店</td>\n",
       "      <td>黑龙江 哈尔滨</td>\n",
       "    </tr>\n",
       "    <tr>\n",
       "      <th>1548</th>\n",
       "      <td>久知味醇香鲜肉粽135g 真空粽嘉兴特产粽子速食早餐</td>\n",
       "      <td>低</td>\n",
       "      <td>2.8</td>\n",
       "      <td>NaN</td>\n",
       "      <td>天猫会员店</td>\n",
       "      <td>上海</td>\n",
       "    </tr>\n",
       "    <tr>\n",
       "      <th>1760</th>\n",
       "      <td>久知味润香细沙粽135g 真空粽嘉兴特产粽子速食早餐</td>\n",
       "      <td>低</td>\n",
       "      <td>2.8</td>\n",
       "      <td>NaN</td>\n",
       "      <td>天猫会员店</td>\n",
       "      <td>上海</td>\n",
       "    </tr>\n",
       "  </tbody>\n",
       "</table>\n",
       "<p>4403 rows × 6 columns</p>\n",
       "</div>"
      ],
      "text/plain": [
       "                                     标题 Price level      价格     付款人数       店铺  \\\n",
       "2798     御茶膳房端午节礼品黄酒有机粽子咸鸭蛋手提竹篮礼盒装高端大礼包           高  1780.0    12人付款  御茶膳房旗舰店   \n",
       "2509       御茶膳房端午节礼品有机粽子咸鸭蛋手提竹篮礼盒装高端大礼包          较高  1088.0     9人付款  御茶膳房旗舰店   \n",
       "153       端午节礼品礼盒装组合高档有机粽子咸鸭蛋送领导高端送礼大礼包           中   858.0    45人付款  御茶膳房旗舰店   \n",
       "794      嘉兴粽子新鲜大肉粽蛋黄肉粽甜粽竹篮粽子礼盒装组合端午送礼团购           中   857.9  2491人付款    千味食代i   \n",
       "2729      米旗端午节粽子礼盒壹品私房多口味肉粽素棕海鲜粽高档礼盒送礼          较低   678.0     5人付款     壹品优店   \n",
       "...                                 ...         ...     ...      ...      ...   \n",
       "1654  三珍斋鲜肉粽100g*2只嘉兴特产粽子速食早餐（新老包装随机发货）           低     3.2      NaN    天猫会员店   \n",
       "1441         久知味蛋黄鲜肉粽135g 真空粽嘉兴特产粽子速食早餐           低     2.9      NaN    天猫会员店   \n",
       "3516     老鼎丰东北哈尔滨特产粽子鲜肉粽甜粽蜜枣端午节手工传统新鲜蛋黄           低     2.9   913人付款   老鼎丰旗舰店   \n",
       "1548         久知味醇香鲜肉粽135g 真空粽嘉兴特产粽子速食早餐           低     2.8      NaN    天猫会员店   \n",
       "1760         久知味润香细沙粽135g 真空粽嘉兴特产粽子速食早餐           低     2.8      NaN    天猫会员店   \n",
       "\n",
       "        发货地址   \n",
       "2798       北京  \n",
       "2509       北京  \n",
       "153        北京  \n",
       "794     浙江 嘉兴  \n",
       "2729       北京  \n",
       "...       ...  \n",
       "1654       上海  \n",
       "1441       上海  \n",
       "3516  黑龙江 哈尔滨  \n",
       "1548       上海  \n",
       "1760       上海  \n",
       "\n",
       "[4403 rows x 6 columns]"
      ]
     },
     "execution_count": 87,
     "metadata": {},
     "output_type": "execute_result"
    }
   ],
   "source": [
    "Zongzi[Zongzi['付款人数'].isna()][' 价格'].max(),Zongzi[Zongzi['付款人数'].isna()][' 价格'].min()\n",
    "Zongzi[Zongzi['付款人数'].isna()]\n",
    "\n",
    "# 已经排序了，直接插值？\n",
    "# 再按价格排序\n",
    "Zongzi.reindex(columns=col_name).sort_values(by=' 价格',ascending=False)\n"
   ]
  },
  {
   "cell_type": "markdown",
   "metadata": {},
   "source": [
    "## (5) 请将数据后四列合并为如下格式的 Series：商品发货地为 ××，店铺为××，共计 ×× 人付款，单价为 ××。\n",
    "\n"
   ]
  },
  {
   "cell_type": "code",
   "execution_count": 108,
   "metadata": {
    "ExecuteTime": {
     "end_time": "2020-06-30T15:07:20.116167Z",
     "start_time": "2020-06-30T15:07:20.081261Z"
    }
   },
   "outputs": [
    {
     "data": {
      "text/plain": [
       "0       商品发货地为 浙江 嘉兴, 店铺为 五芳斋官方旗舰店,共计 6人付款, 单价为 0     ...\n",
       "1       商品发货地为 上海, 店铺为 天猫超市,共计 8人付款, 单价为 0       129.0...\n",
       "2       商品发货地为 浙江 嘉兴, 店铺为 五芳斋官方旗舰店,共计 100万+人付款, 单价为 0 ...\n",
       "3       商品发货地为 北京, 店铺为 稻香村食品旗舰店,共计 1936人付款, 单价为 0     ...\n",
       "4       商品发货地为 浙江 嘉兴, 店铺为 城城喂食猫,共计 9500+人付款, 单价为 0    ...\n",
       "                              ...                        \n",
       "4398    商品发货地为 浙江 嘉兴, 店铺为 红船旗舰店,共计 347人付款, 单价为 0      ...\n",
       "4399    商品发货地为 四川 乐山, 店铺为 峨眉山隐栗粑粑罗栗,共计 80人付款, 单价为 0   ...\n",
       "4400    商品发货地为 北京, 店铺为 北京美程嘉译,共计 5人付款, 单价为 0       129...\n",
       "4401    商品发货地为 安徽 合肥, 店铺为 chaoge1931,共计 149人付款, 单价为 0 ...\n",
       "4402    商品发货地为 广东 东莞, 店铺为 hezhiqi,共计 20人付款, 单价为 0     ...\n",
       "Name: Detail, Length: 4403, dtype: object"
      ]
     },
     "execution_count": 108,
     "metadata": {},
     "output_type": "execute_result"
    }
   ],
   "source": [
    "Zongzi['Detail'] = '商品发货地为 ' + Zongzi['发货地址 '].replace(' ', '') + ', 店铺为 ' + Zongzi['店铺'] + ',共计 ' + Zongzi['付款人数'] + ', 单价为 ' + str(Zongzi[' 价格'])\n",
    "Zongzi['Detail']"
   ]
  },
  {
   "cell_type": "markdown",
   "metadata": {},
   "source": [
    "## (6) 请将上一问中的结果恢复成原来的四列"
   ]
  },
  {
   "cell_type": "markdown",
   "metadata": {},
   "source": [
    "# 二、墨尔本每日最低温度"
   ]
  },
  {
   "cell_type": "code",
   "execution_count": 31,
   "metadata": {
    "ExecuteTime": {
     "end_time": "2020-07-01T13:38:28.897160Z",
     "start_time": "2020-07-01T13:38:28.849287Z"
    }
   },
   "outputs": [
    {
     "name": "stdout",
     "output_type": "stream",
     "text": [
      "<class 'pandas.core.frame.DataFrame'>\n",
      "RangeIndex: 3650 entries, 0 to 3649\n",
      "Data columns (total 2 columns):\n",
      " #   Column  Non-Null Count  Dtype         \n",
      "---  ------  --------------  -----         \n",
      " 0   Date    3650 non-null   datetime64[ns]\n",
      " 1   Temp    3650 non-null   float64       \n",
      "dtypes: datetime64[ns](1), float64(1)\n",
      "memory usage: 57.2 KB\n"
     ]
    },
    {
     "data": {
      "text/html": [
       "<div>\n",
       "<style scoped>\n",
       "    .dataframe tbody tr th:only-of-type {\n",
       "        vertical-align: middle;\n",
       "    }\n",
       "\n",
       "    .dataframe tbody tr th {\n",
       "        vertical-align: top;\n",
       "    }\n",
       "\n",
       "    .dataframe thead th {\n",
       "        text-align: right;\n",
       "    }\n",
       "</style>\n",
       "<table border=\"1\" class=\"dataframe\">\n",
       "  <thead>\n",
       "    <tr style=\"text-align: right;\">\n",
       "      <th></th>\n",
       "      <th>Date</th>\n",
       "      <th>Temp</th>\n",
       "    </tr>\n",
       "  </thead>\n",
       "  <tbody>\n",
       "    <tr>\n",
       "      <th>0</th>\n",
       "      <td>1981-01-01</td>\n",
       "      <td>20.7</td>\n",
       "    </tr>\n",
       "    <tr>\n",
       "      <th>1</th>\n",
       "      <td>1981-01-02</td>\n",
       "      <td>17.9</td>\n",
       "    </tr>\n",
       "    <tr>\n",
       "      <th>2</th>\n",
       "      <td>1981-01-03</td>\n",
       "      <td>18.8</td>\n",
       "    </tr>\n",
       "    <tr>\n",
       "      <th>3</th>\n",
       "      <td>1981-01-04</td>\n",
       "      <td>14.6</td>\n",
       "    </tr>\n",
       "    <tr>\n",
       "      <th>4</th>\n",
       "      <td>1981-01-05</td>\n",
       "      <td>15.8</td>\n",
       "    </tr>\n",
       "  </tbody>\n",
       "</table>\n",
       "</div>"
      ],
      "text/plain": [
       "        Date  Temp\n",
       "0 1981-01-01  20.7\n",
       "1 1981-01-02  17.9\n",
       "2 1981-01-03  18.8\n",
       "3 1981-01-04  14.6\n",
       "4 1981-01-05  15.8"
      ]
     },
     "execution_count": 31,
     "metadata": {},
     "output_type": "execute_result"
    },
    {
     "data": {
      "text/plain": [
       "Index(['Date', 'Temp'], dtype='object')"
      ]
     },
     "execution_count": 31,
     "metadata": {},
     "output_type": "execute_result"
    }
   ],
   "source": [
    "MelbourneTemperature = pd.read_csv('./墨尔本温度数据.csv', parse_dates=['Date'])\n",
    "MelbourneTemperature.info()\n",
    "MelbourneTemperature.head()\n",
    "MelbourneTemperature.columns"
   ]
  },
  {
   "cell_type": "markdown",
   "metadata": {},
   "source": [
    "## (1) 剔除国庆节、五一劳动节和每月第一个周一，求每月的平均最低气温。\n"
   ]
  },
  {
   "cell_type": "code",
   "execution_count": 69,
   "metadata": {
    "ExecuteTime": {
     "end_time": "2020-07-01T13:53:03.091699Z",
     "start_time": "2020-07-01T13:53:03.032854Z"
    }
   },
   "outputs": [
    {
     "data": {
      "text/html": [
       "<div>\n",
       "<style scoped>\n",
       "    .dataframe tbody tr th:only-of-type {\n",
       "        vertical-align: middle;\n",
       "    }\n",
       "\n",
       "    .dataframe tbody tr th {\n",
       "        vertical-align: top;\n",
       "    }\n",
       "\n",
       "    .dataframe thead th {\n",
       "        text-align: right;\n",
       "    }\n",
       "</style>\n",
       "<table border=\"1\" class=\"dataframe\">\n",
       "  <thead>\n",
       "    <tr style=\"text-align: right;\">\n",
       "      <th></th>\n",
       "      <th>Temp</th>\n",
       "    </tr>\n",
       "    <tr>\n",
       "      <th>Date</th>\n",
       "      <th></th>\n",
       "    </tr>\n",
       "  </thead>\n",
       "  <tbody>\n",
       "    <tr>\n",
       "      <th>1981-01-31</th>\n",
       "      <td>17.776667</td>\n",
       "    </tr>\n",
       "    <tr>\n",
       "      <th>1981-02-28</th>\n",
       "      <td>17.637037</td>\n",
       "    </tr>\n",
       "    <tr>\n",
       "      <th>1981-03-31</th>\n",
       "      <td>13.330000</td>\n",
       "    </tr>\n",
       "    <tr>\n",
       "      <th>1981-04-30</th>\n",
       "      <td>12.210345</td>\n",
       "    </tr>\n",
       "    <tr>\n",
       "      <th>1981-05-31</th>\n",
       "      <td>9.551724</td>\n",
       "    </tr>\n",
       "    <tr>\n",
       "      <th>...</th>\n",
       "      <td>...</td>\n",
       "    </tr>\n",
       "    <tr>\n",
       "      <th>1990-08-31</th>\n",
       "      <td>7.826667</td>\n",
       "    </tr>\n",
       "    <tr>\n",
       "      <th>1990-09-30</th>\n",
       "      <td>9.186207</td>\n",
       "    </tr>\n",
       "    <tr>\n",
       "      <th>1990-10-31</th>\n",
       "      <td>11.346667</td>\n",
       "    </tr>\n",
       "    <tr>\n",
       "      <th>1990-11-30</th>\n",
       "      <td>12.662069</td>\n",
       "    </tr>\n",
       "    <tr>\n",
       "      <th>1990-12-31</th>\n",
       "      <td>14.306667</td>\n",
       "    </tr>\n",
       "  </tbody>\n",
       "</table>\n",
       "<p>120 rows × 1 columns</p>\n",
       "</div>"
      ],
      "text/plain": [
       "                 Temp\n",
       "Date                 \n",
       "1981-01-31  17.776667\n",
       "1981-02-28  17.637037\n",
       "1981-03-31  13.330000\n",
       "1981-04-30  12.210345\n",
       "1981-05-31   9.551724\n",
       "...               ...\n",
       "1990-08-31   7.826667\n",
       "1990-09-30   9.186207\n",
       "1990-10-31  11.346667\n",
       "1990-11-30  12.662069\n",
       "1990-12-31  14.306667\n",
       "\n",
       "[120 rows x 1 columns]"
      ]
     },
     "execution_count": 69,
     "metadata": {},
     "output_type": "execute_result"
    }
   ],
   "source": [
    "# 排除五一和国庆\n",
    "ExcludeHoliday = MelbourneTemperature[((MelbourneTemperature.Date.dt.month==5) | \n",
    "                                    (MelbourneTemperature.Date.dt.month==10)) & \n",
    "                                    (MelbourneTemperature.Date.dt.day==1)]\n",
    "\n",
    "# 排除第一个周一\n",
    "ExcludeFirstMonday = MelbourneTemperature[(MelbourneTemperature.Date.dt.weekday == 0) & \n",
    "                                          (0< MelbourneTemperature.Date.dt.day) & \n",
    "                                          (MelbourneTemperature.Date.dt.day < 8)]\n",
    "\n",
    "# 用set方法，剔除原来index中需要排除的\n",
    "ExcludeList = list(ExcludeHoliday.index) + (list(ExcludeFirstMonday.index))\n",
    "MelbourneTemperature.loc[set(MelbourneTemperature.index) - set(ExcludeList)].set_index('Date').resample('M').mean()"
   ]
  },
  {
   "cell_type": "markdown",
   "metadata": {},
   "source": [
    "## (2) 季节指数是一种对于周期性变化序列的特征刻画。记数据集中第 k 年平均最低气温为 TYk(k = 1; :::; 10)，第 k 年第 j 个月平均最低气温为TMkj(j = 1; :::; 12)，定义 Sj = ∑∑kkTM TYkj k 。请按照如上定义，计算 12 个\n",
    "月的季节指数 Sj。"
   ]
  },
  {
   "cell_type": "code",
   "execution_count": 84,
   "metadata": {
    "ExecuteTime": {
     "end_time": "2020-07-01T14:03:52.170313Z",
     "start_time": "2020-07-01T14:03:52.058612Z"
    }
   },
   "outputs": [
    {
     "data": {
      "text/html": [
       "<div>\n",
       "<style scoped>\n",
       "    .dataframe tbody tr th:only-of-type {\n",
       "        vertical-align: middle;\n",
       "    }\n",
       "\n",
       "    .dataframe tbody tr th {\n",
       "        vertical-align: top;\n",
       "    }\n",
       "\n",
       "    .dataframe thead th {\n",
       "        text-align: right;\n",
       "    }\n",
       "</style>\n",
       "<table border=\"1\" class=\"dataframe\">\n",
       "  <thead>\n",
       "    <tr style=\"text-align: right;\">\n",
       "      <th></th>\n",
       "      <th>Temp</th>\n",
       "    </tr>\n",
       "    <tr>\n",
       "      <th>Date</th>\n",
       "      <th></th>\n",
       "    </tr>\n",
       "  </thead>\n",
       "  <tbody>\n",
       "    <tr>\n",
       "      <th>1981-12-31</th>\n",
       "      <td>11.517260</td>\n",
       "    </tr>\n",
       "    <tr>\n",
       "      <th>1982-12-31</th>\n",
       "      <td>10.783562</td>\n",
       "    </tr>\n",
       "    <tr>\n",
       "      <th>1983-12-31</th>\n",
       "      <td>11.187397</td>\n",
       "    </tr>\n",
       "    <tr>\n",
       "      <th>1984-12-31</th>\n",
       "      <td>10.591781</td>\n",
       "    </tr>\n",
       "    <tr>\n",
       "      <th>1985-12-31</th>\n",
       "      <td>11.137534</td>\n",
       "    </tr>\n",
       "    <tr>\n",
       "      <th>1986-12-31</th>\n",
       "      <td>10.803288</td>\n",
       "    </tr>\n",
       "    <tr>\n",
       "      <th>1987-12-31</th>\n",
       "      <td>10.853151</td>\n",
       "    </tr>\n",
       "    <tr>\n",
       "      <th>1988-12-31</th>\n",
       "      <td>11.972055</td>\n",
       "    </tr>\n",
       "    <tr>\n",
       "      <th>1989-12-31</th>\n",
       "      <td>11.261918</td>\n",
       "    </tr>\n",
       "    <tr>\n",
       "      <th>1990-12-31</th>\n",
       "      <td>11.669589</td>\n",
       "    </tr>\n",
       "  </tbody>\n",
       "</table>\n",
       "</div>"
      ],
      "text/plain": [
       "                 Temp\n",
       "Date                 \n",
       "1981-12-31  11.517260\n",
       "1982-12-31  10.783562\n",
       "1983-12-31  11.187397\n",
       "1984-12-31  10.591781\n",
       "1985-12-31  11.137534\n",
       "1986-12-31  10.803288\n",
       "1987-12-31  10.853151\n",
       "1988-12-31  11.972055\n",
       "1989-12-31  11.261918\n",
       "1990-12-31  11.669589"
      ]
     },
     "execution_count": 84,
     "metadata": {},
     "output_type": "execute_result"
    },
    {
     "data": {
      "text/html": [
       "<div>\n",
       "<style scoped>\n",
       "    .dataframe tbody tr th:only-of-type {\n",
       "        vertical-align: middle;\n",
       "    }\n",
       "\n",
       "    .dataframe tbody tr th {\n",
       "        vertical-align: top;\n",
       "    }\n",
       "\n",
       "    .dataframe thead th {\n",
       "        text-align: right;\n",
       "    }\n",
       "</style>\n",
       "<table border=\"1\" class=\"dataframe\">\n",
       "  <thead>\n",
       "    <tr style=\"text-align: right;\">\n",
       "      <th></th>\n",
       "      <th>Temp</th>\n",
       "    </tr>\n",
       "    <tr>\n",
       "      <th>Date</th>\n",
       "      <th></th>\n",
       "    </tr>\n",
       "  </thead>\n",
       "  <tbody>\n",
       "    <tr>\n",
       "      <th>1981-01-31</th>\n",
       "      <td>17.712903</td>\n",
       "    </tr>\n",
       "    <tr>\n",
       "      <th>1981-02-28</th>\n",
       "      <td>17.678571</td>\n",
       "    </tr>\n",
       "    <tr>\n",
       "      <th>1981-03-31</th>\n",
       "      <td>13.500000</td>\n",
       "    </tr>\n",
       "    <tr>\n",
       "      <th>1981-04-30</th>\n",
       "      <td>12.356667</td>\n",
       "    </tr>\n",
       "    <tr>\n",
       "      <th>1981-05-31</th>\n",
       "      <td>9.490323</td>\n",
       "    </tr>\n",
       "    <tr>\n",
       "      <th>...</th>\n",
       "      <td>...</td>\n",
       "    </tr>\n",
       "    <tr>\n",
       "      <th>1990-08-31</th>\n",
       "      <td>7.825806</td>\n",
       "    </tr>\n",
       "    <tr>\n",
       "      <th>1990-09-30</th>\n",
       "      <td>9.166667</td>\n",
       "    </tr>\n",
       "    <tr>\n",
       "      <th>1990-10-31</th>\n",
       "      <td>11.345161</td>\n",
       "    </tr>\n",
       "    <tr>\n",
       "      <th>1990-11-30</th>\n",
       "      <td>12.656667</td>\n",
       "    </tr>\n",
       "    <tr>\n",
       "      <th>1990-12-31</th>\n",
       "      <td>14.367742</td>\n",
       "    </tr>\n",
       "  </tbody>\n",
       "</table>\n",
       "<p>120 rows × 1 columns</p>\n",
       "</div>"
      ],
      "text/plain": [
       "                 Temp\n",
       "Date                 \n",
       "1981-01-31  17.712903\n",
       "1981-02-28  17.678571\n",
       "1981-03-31  13.500000\n",
       "1981-04-30  12.356667\n",
       "1981-05-31   9.490323\n",
       "...               ...\n",
       "1990-08-31   7.825806\n",
       "1990-09-30   9.166667\n",
       "1990-10-31  11.345161\n",
       "1990-11-30  12.656667\n",
       "1990-12-31  14.367742\n",
       "\n",
       "[120 rows x 1 columns]"
      ]
     },
     "execution_count": 84,
     "metadata": {},
     "output_type": "execute_result"
    },
    {
     "name": "stdout",
     "output_type": "stream",
     "text": [
      "1.344663995493859\n",
      "1.3757974915808162\n",
      "1.3030779368273644\n",
      "1.0814635887983637\n",
      "0.8826864610502461\n",
      "0.6511445598073148\n",
      "0.5987411236320361\n",
      "0.7059817856755434\n",
      "0.8030534394802463\n",
      "0.9223100964070103\n",
      "1.11647360543284\n",
      "1.2393511257604986\n"
     ]
    }
   ],
   "source": [
    "#(2) 季节指数,月均值/年均值\n",
    "MelbourneTemperature = pd.read_csv('./墨尔本温度数据.csv', parse_dates=['Date'])\n",
    "MelbourneTemperature = MelbourneTemperature.set_index('Date')\n",
    "TY_k = MelbourneTemperature.resample('Y').mean()\n",
    "TM_kj = MelbourneTemperature.resample('M').mean()\n",
    "\n",
    "TY_k\n",
    "TM_kj\n",
    "\n",
    "for i in range(12):\n",
    "    j = i+1\n",
    "    print((TM_kj[TM_kj.index.month==j].sum() / TY_k.sum()).values[0])"
   ]
  },
  {
   "cell_type": "markdown",
   "metadata": {},
   "source": [
    "## (3) 移动平均法是一种时间序列的常见平滑方式，可分为 k 期移动平均和 k期中心移动平均，都使用了某一时刻及其周围的数据对该时刻的数据进行平滑修正。\n",
    "### (a) 求原序列的 5 期移动平均序列。\n",
    "### (b) 求原序列的 5 期与 6 期中心移动平均序列"
   ]
  },
  {
   "cell_type": "code",
   "execution_count": null,
   "metadata": {},
   "outputs": [],
   "source": []
  },
  {
   "cell_type": "markdown",
   "metadata": {},
   "source": [
    "# 三、 2016 年 8 月上海市摩拜单车骑行记录\n",
    "## (1) 平均而言，周末单天用车量比工作日单天用车量更大吗？\n",
    "## (2) 工作日每天的高峰时间段大致为上午 7:30 至 9:30、下午 17:00 至 19:00，请问 8 月里早高峰骑行记录量（以 start_time 为准）高于晚高峰的有几天？\n",
    "## (3) 请给出在所有周五中（以 start_time 为准），记录条数最多的那个周五所在的日期，并在该天内分别按 30 分钟、 2 小时、 6 小时统计摩拜单车使用时间的均值。\n",
    "## (4) 请自行搜索相关代码或调用库，计算每条记录起点到终点的球面距离。\n",
    "## (5) 摩拜单车的骑行结束时间是以电子锁关闭的记录时间为准，但有时候用户会忘记关锁，导致骑行时间出现异常。同时，正常人的骑行速度往往大致落在一个合理的区间，请结合上一问中的球面距离和骑行起始、结束时间，找出潜在的异常骑行记录。\n",
    "## (6) 由于路线的曲折性，起点到终点的球面距离往往不能充分反应行程长度，请利用 track 列的路线坐标数据，计算估计实际骑行距离，并重新仿照上一问的方法找出可能的异常记录。"
   ]
  },
  {
   "cell_type": "code",
   "execution_count": null,
   "metadata": {},
   "outputs": [],
   "source": []
  },
  {
   "cell_type": "code",
   "execution_count": null,
   "metadata": {},
   "outputs": [],
   "source": []
  },
  {
   "cell_type": "code",
   "execution_count": null,
   "metadata": {},
   "outputs": [],
   "source": []
  }
 ],
 "metadata": {
  "kernelspec": {
   "display_name": "Python 3",
   "language": "python",
   "name": "python3"
  },
  "language_info": {
   "codemirror_mode": {
    "name": "ipython",
    "version": 3
   },
   "file_extension": ".py",
   "mimetype": "text/x-python",
   "name": "python",
   "nbconvert_exporter": "python",
   "pygments_lexer": "ipython3",
   "version": "3.7.3"
  },
  "toc": {
   "base_numbering": 1,
   "nav_menu": {},
   "number_sections": false,
   "sideBar": true,
   "skip_h1_title": false,
   "title_cell": "Table of Contents",
   "title_sidebar": "Contents",
   "toc_cell": false,
   "toc_position": {},
   "toc_section_display": true,
   "toc_window_display": true
  }
 },
 "nbformat": 4,
 "nbformat_minor": 4
}
